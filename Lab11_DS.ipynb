{
  "nbformat": 4,
  "nbformat_minor": 0,
  "metadata": {
    "colab": {
      "provenance": []
    },
    "kernelspec": {
      "name": "python3",
      "display_name": "Python 3"
    },
    "language_info": {
      "name": "python"
    }
  },
  "cells": [
    {
      "cell_type": "markdown",
      "source": [
        "# LAB 11 - Consultoria Customer churn\n",
        "Diego Duarte\n",
        "\n",
        "Paula Barillas"
      ],
      "metadata": {
        "id": "SaVYna3bh4x-"
      }
    },
    {
      "cell_type": "code",
      "source": [
        "!pip -q install pyspark"
      ],
      "metadata": {
        "id": "BjJXLZBqiFGL"
      },
      "execution_count": 70,
      "outputs": []
    },
    {
      "cell_type": "code",
      "source": [
        "from pyspark.sql import SparkSession\n",
        "spark = SparkSession.builder.appName(\"Lab Spark — Customer Churn\").getOrCreate()\n",
        "print(\"Spark version:\", spark.version)"
      ],
      "metadata": {
        "colab": {
          "base_uri": "https://localhost:8080/"
        },
        "id": "acup5GLPjnQ4",
        "outputId": "2207d431-612f-4e13-d573-7c193da9fe5f"
      },
      "execution_count": 71,
      "outputs": [
        {
          "output_type": "stream",
          "name": "stdout",
          "text": [
            "Spark version: 3.5.1\n"
          ]
        }
      ]
    },
    {
      "cell_type": "markdown",
      "source": [
        "## Obtención de Data"
      ],
      "metadata": {
        "id": "UqXwxBOimE5P"
      }
    },
    {
      "cell_type": "code",
      "source": [
        "data_path = '/abandono_clientes.csv'\n",
        "new_path = '/clientes_nuevos.csv'"
      ],
      "metadata": {
        "id": "YRc78fG6jtn2"
      },
      "execution_count": 72,
      "outputs": []
    },
    {
      "cell_type": "code",
      "source": [
        "df = spark.read.option('header', True).option('inferSchema', True).csv(data_path)\n",
        "df_new = spark.read.option('header', True).option('inferSchema', True).csv(new_path)"
      ],
      "metadata": {
        "id": "Cr2PsldjjwCI"
      },
      "execution_count": 73,
      "outputs": []
    },
    {
      "cell_type": "markdown",
      "source": [
        "## Analisis Exploratorio"
      ],
      "metadata": {
        "id": "0JJxXBmZmHvB"
      }
    },
    {
      "cell_type": "code",
      "source": [
        "print('Registros históricos:', df.count())\n",
        "print('Registros nuevos:', df_new.count())"
      ],
      "metadata": {
        "colab": {
          "base_uri": "https://localhost:8080/"
        },
        "id": "h_qtpJGXj--6",
        "outputId": "c04553a0-e668-4683-fdbf-28a766482c2c"
      },
      "execution_count": 74,
      "outputs": [
        {
          "output_type": "stream",
          "name": "stdout",
          "text": [
            "Registros históricos: 900\n",
            "Registros nuevos: 6\n"
          ]
        }
      ]
    },
    {
      "cell_type": "code",
      "source": [
        "df.printSchema()\n",
        "df.show(5, truncate=False)"
      ],
      "metadata": {
        "colab": {
          "base_uri": "https://localhost:8080/"
        },
        "id": "rm05VYMvkBAc",
        "outputId": "abe6156d-8b6f-4872-e4e5-7b3d680bca8a"
      },
      "execution_count": 75,
      "outputs": [
        {
          "output_type": "stream",
          "name": "stdout",
          "text": [
            "root\n",
            " |-- Names: string (nullable = true)\n",
            " |-- Age: double (nullable = true)\n",
            " |-- Total_Purchase: double (nullable = true)\n",
            " |-- Account_Manager: integer (nullable = true)\n",
            " |-- Years: double (nullable = true)\n",
            " |-- Num_Sites: double (nullable = true)\n",
            " |-- Onboard_date: timestamp (nullable = true)\n",
            " |-- Location: string (nullable = true)\n",
            " |-- Company: string (nullable = true)\n",
            " |-- Churn: integer (nullable = true)\n",
            "\n",
            "+----------------+----+--------------+---------------+-----+---------+-------------------+--------------------------------------------------+---------------------------+-----+\n",
            "|Names           |Age |Total_Purchase|Account_Manager|Years|Num_Sites|Onboard_date       |Location                                          |Company                    |Churn|\n",
            "+----------------+----+--------------+---------------+-----+---------+-------------------+--------------------------------------------------+---------------------------+-----+\n",
            "|Cameron Williams|42.0|11066.8       |0              |7.22 |8.0      |2013-08-30 07:00:40|10265 Elizabeth Mission Barkerburgh, AK 89518     |Harvey LLC                 |1    |\n",
            "|Kevin Mueller   |41.0|11916.22      |0              |6.5  |11.0     |2013-08-13 00:38:46|6157 Frank Gardens Suite 019 Carloshaven, RI 17756|Wilson PLC                 |1    |\n",
            "|Eric Lozano     |38.0|12884.75      |0              |6.67 |12.0     |2016-06-29 06:20:07|1331 Keith Court Alyssahaven, DE 90114            |Miller, Johnson and Wallace|1    |\n",
            "|Phillip White   |42.0|8010.76       |0              |6.71 |10.0     |2014-04-22 12:43:12|13120 Daniel Mount Angelabury, WY 30645-4695      |Smith Inc                  |1    |\n",
            "|Cynthia Norton  |37.0|9191.58       |0              |5.56 |9.0      |2016-01-19 15:31:15|765 Tricia Row Karenshire, MH 71730               |Love-Jones                 |1    |\n",
            "+----------------+----+--------------+---------------+-----+---------+-------------------+--------------------------------------------------+---------------------------+-----+\n",
            "only showing top 5 rows\n",
            "\n"
          ]
        }
      ]
    },
    {
      "cell_type": "code",
      "source": [
        "num_companies = df.select('Company').distinct().count()\n",
        "print(f\"Número de compañías únicas: {num_companies}\")"
      ],
      "metadata": {
        "colab": {
          "base_uri": "https://localhost:8080/"
        },
        "id": "JLk2op_ik03d",
        "outputId": "222903c9-b0c6-48fc-9f9b-d2b48b11b0a6"
      },
      "execution_count": 76,
      "outputs": [
        {
          "output_type": "stream",
          "name": "stdout",
          "text": [
            "Número de compañías únicas: 873\n"
          ]
        }
      ]
    },
    {
      "cell_type": "markdown",
      "source": [
        "## Limpieza"
      ],
      "metadata": {
        "id": "jVfmf1tmmMP4"
      }
    },
    {
      "cell_type": "code",
      "source": [
        "from pyspark.sql.functions import col, to_date, current_date, datediff\n",
        "\n",
        "# Convertir fecha de abordaje a tipo fecha\n",
        "df = df.withColumn('Onboard_date_dt', to_date(col('Onboard_date')))\n",
        "df_new = df_new.withColumn('Onboard_date_dt', to_date(col('Onboard_date')))\n",
        "\n",
        "# Crear nueva variable: días desde que fue abordado\n",
        "df = df.withColumn('days_since_onboard', datediff(current_date(), col('Onboard_date_dt')))\n",
        "df_new = df_new.withColumn('days_since_onboard', datediff(current_date(), col('Onboard_date_dt')))\n",
        "\n",
        "# Eliminar columnas que no ayudan al modelo\n",
        "cols_to_drop = ['Names', 'Company', 'Onboard_date', 'Onboard_date_dt']\n",
        "\n",
        "for c in cols_to_drop:\n",
        "    if c in df.columns:\n",
        "        df = df.drop(c)\n",
        "\n",
        "print(\"Columnas después de limpieza:\")\n",
        "print(df.columns)\n",
        "\n",
        "\n",
        "df.groupBy('Churn').count().show()"
      ],
      "metadata": {
        "colab": {
          "base_uri": "https://localhost:8080/"
        },
        "id": "S6FQfV1BkfgN",
        "outputId": "f3db8a66-1f88-4fee-d3b7-0a08cf4c8d93"
      },
      "execution_count": 77,
      "outputs": [
        {
          "output_type": "stream",
          "name": "stdout",
          "text": [
            "Columnas después de limpieza:\n",
            "['Age', 'Total_Purchase', 'Account_Manager', 'Years', 'Num_Sites', 'Location', 'Churn', 'days_since_onboard']\n",
            "+-----+-----+\n",
            "|Churn|count|\n",
            "+-----+-----+\n",
            "|    1|  150|\n",
            "|    0|  750|\n",
            "+-----+-----+\n",
            "\n"
          ]
        }
      ]
    },
    {
      "cell_type": "markdown",
      "source": [
        "## Pipeline"
      ],
      "metadata": {
        "id": "YrwNFlN8mO7E"
      }
    },
    {
      "cell_type": "code",
      "source": [
        "from pyspark.ml import Pipeline\n",
        "from pyspark.ml.feature import StringIndexer, OneHotEncoder, VectorAssembler, StandardScaler, Imputer\n",
        "from pyspark.ml.classification import LogisticRegression\n",
        "from pyspark.ml.evaluation import BinaryClassificationEvaluator, MulticlassClassificationEvaluator\n",
        "from pyspark.sql.functions import when, col\n",
        "\n",
        "# 1️Definir columnas numéricas y categóricas\n",
        "num_cols = [c for c, t in df.dtypes if t in ('int', 'double') and c != 'Churn']\n",
        "cat_cols = [c for c, t in df.dtypes if t not in ('int', 'double') and c != 'Churn']\n",
        "\n",
        "print('Num cols:', num_cols)\n",
        "print('Cat cols:', cat_cols)\n",
        "\n",
        "# Imputar valores numéricos si hay nulos\n",
        "imputer = Imputer(inputCols=num_cols, outputCols=[c + '_imputed' for c in num_cols])\n",
        "num_imputed_cols = [c + '_imputed' for c in num_cols]\n",
        "\n",
        "# Indexar y codificar categóricas\n",
        "indexers = [StringIndexer(inputCol=c, outputCol=c + '_idx', handleInvalid='keep') for c in cat_cols]\n",
        "encoders = [OneHotEncoder(inputCol=c + '_idx', outputCol=c + '_ohe') for c in cat_cols]\n",
        "\n",
        "# VectorAssembler y escalado\n",
        "assembler_inputs = num_imputed_cols + [c + '_ohe' for c in cat_cols]\n",
        "assembler = VectorAssembler(inputCols=assembler_inputs, outputCol='raw_features')\n",
        "scaler = StandardScaler(inputCol='raw_features', outputCol='features')\n",
        "\n",
        "# Crear columna de peso para clase minoritaria (Churn=1)\n",
        "churn_count = df.filter(col('Churn') == 1).count()\n",
        "not_churn_count = df.filter(col('Churn') == 0).count()\n",
        "ratio = not_churn_count / churn_count\n",
        "print(f\"Peso para la clase Churn=1: {ratio:.2f}\")\n",
        "\n",
        "df = df.withColumn('weight', when(col('Churn') == 1, ratio).otherwise(1.0))\n",
        "\n",
        "# Definir Logistic Regression con weightCol\n",
        "lr = LogisticRegression(\n",
        "    labelCol='Churn',\n",
        "    featuresCol='features',\n",
        "    probabilityCol='probability',\n",
        "    predictionCol='prediction',\n",
        "    weightCol='weight'\n",
        ")\n",
        "\n",
        "#  Crear pipeline\n",
        "stages = []\n",
        "stages.append(imputer)\n",
        "stages += indexers\n",
        "stages += encoders\n",
        "stages.append(assembler)\n",
        "stages.append(scaler)\n",
        "stages.append(lr)\n",
        "\n",
        "pipeline = Pipeline(stages=stages)\n",
        "\n",
        "# División train/test\n",
        "train, test = df.randomSplit([0.8, 0.2], seed=42)\n",
        "print('Train:', train.count(), 'Test:', test.count())\n",
        "\n",
        "\n"
      ],
      "metadata": {
        "colab": {
          "base_uri": "https://localhost:8080/"
        },
        "id": "lWO3ca3jpJy4",
        "outputId": "01295791-42cd-47f5-d23c-e7db05f86ccc"
      },
      "execution_count": 78,
      "outputs": [
        {
          "output_type": "stream",
          "name": "stdout",
          "text": [
            "Num cols: ['Age', 'Total_Purchase', 'Account_Manager', 'Years', 'Num_Sites', 'days_since_onboard']\n",
            "Cat cols: ['Location']\n",
            "Peso para la clase Churn=1: 5.00\n",
            "Train: 754 Test: 146\n"
          ]
        }
      ]
    },
    {
      "cell_type": "markdown",
      "source": [
        "## Training"
      ],
      "metadata": {
        "id": "fjnUoaH6m3zG"
      }
    },
    {
      "cell_type": "code",
      "source": [
        "# Entrenar modelo\n",
        "model = pipeline.fit(train)\n",
        "\n",
        "# Predicción en test\n",
        "preds = model.transform(test)\n",
        "\n",
        "# Evaluación\n",
        "evaluator_auc = BinaryClassificationEvaluator(labelCol='Churn', rawPredictionCol='probability', metricName='areaUnderROC')\n",
        "auc = evaluator_auc.evaluate(preds)\n",
        "print(f\"AUC en test: {auc:.4f}\")\n",
        "\n",
        "evaluator_acc = MulticlassClassificationEvaluator(labelCol='Churn', predictionCol='prediction', metricName='accuracy')\n",
        "acc = evaluator_acc.evaluate(preds)\n",
        "print(f\"Accuracy en test: {acc:.4f}\")\n",
        "\n",
        "# Matriz de confusión\n",
        "preds.groupBy('Churn', 'prediction').count().orderBy('Churn', 'prediction').show()"
      ],
      "metadata": {
        "colab": {
          "base_uri": "https://localhost:8080/"
        },
        "id": "XJoShACZpUMY",
        "outputId": "94a68171-3f6b-4484-a280-0eca725be7e2"
      },
      "execution_count": 79,
      "outputs": [
        {
          "output_type": "stream",
          "name": "stdout",
          "text": [
            "AUC en test: 0.9371\n",
            "Accuracy en test: 0.8767\n",
            "+-----+----------+-----+\n",
            "|Churn|prediction|count|\n",
            "+-----+----------+-----+\n",
            "|    0|       0.0|  103|\n",
            "|    0|       1.0|   13|\n",
            "|    1|       0.0|    5|\n",
            "|    1|       1.0|   25|\n",
            "+-----+----------+-----+\n",
            "\n"
          ]
        }
      ]
    },
    {
      "cell_type": "markdown",
      "source": [
        "## Nuevos Clientes"
      ],
      "metadata": {
        "id": "HJR9YNAPptsH"
      }
    },
    {
      "cell_type": "code",
      "source": [
        "df_new.show(7, truncate=False)"
      ],
      "metadata": {
        "colab": {
          "base_uri": "https://localhost:8080/"
        },
        "id": "0FttkcPirgY1",
        "outputId": "c21843ba-697c-43bf-a9b1-1e7ebbac016c"
      },
      "execution_count": 80,
      "outputs": [
        {
          "output_type": "stream",
          "name": "stdout",
          "text": [
            "+--------------+----+--------------+---------------+-----+---------+-------------------+---------------------------------------------------------+----------------+---------------+------------------+\n",
            "|Names         |Age |Total_Purchase|Account_Manager|Years|Num_Sites|Onboard_date       |Location                                                 |Company         |Onboard_date_dt|days_since_onboard|\n",
            "+--------------+----+--------------+---------------+-----+---------+-------------------+---------------------------------------------------------+----------------+---------------+------------------+\n",
            "|Andrew Mccall |37.0|9935.53       |1              |7.71 |8.0      |2011-08-29 18:37:54|38612 Johnny Stravenue Nataliebury, WI 15717-8316        |King Ltd        |2011-08-29     |5170              |\n",
            "|Michele Wright|23.0|7526.94       |1              |9.28 |15.0     |2013-07-22 18:19:54|21083 Nicole Junction Suite 332, Youngport, ME 23686-4381|Cannon-Benson   |2013-07-22     |4477              |\n",
            "|Jeremy Chang  |65.0|100.0         |1              |1.0  |15.0     |2006-12-11 07:48:13|085 Austin Views Lake Julialand, WY 63726-4298           |Barron-Robertson|2006-12-11     |6892              |\n",
            "|Megan Ferguson|32.0|6487.5        |0              |9.4  |14.0     |2016-10-28 05:32:13|922 Wright Branch North Cynthialand, NC 64721            |Sexton-Golden   |2016-10-28     |3283              |\n",
            "|Taylor Young  |32.0|13147.71      |1              |10.0 |8.0      |2012-03-20 00:36:46|Unit 0789 Box 0734 DPO AP 39702                          |Wood LLC        |2012-03-20     |4966              |\n",
            "|Jessica Drake |22.0|8445.26       |1              |3.46 |14.0     |2011-02-04 19:29:27|1148 Tina Stravenue Apt. 978 South Carlos TX 21222 9221  |Parks-Robbins   |2011-02-04     |5376              |\n",
            "+--------------+----+--------------+---------------+-----+---------+-------------------+---------------------------------------------------------+----------------+---------------+------------------+\n",
            "\n"
          ]
        }
      ]
    },
    {
      "cell_type": "code",
      "source": [
        "from pyspark.sql.functions import col, udf\n",
        "from pyspark.sql.types import DoubleType\n",
        "import matplotlib.pyplot as plt\n",
        "\n",
        "# Aplicar pipeline al df_new\n",
        "preds_new = model.transform(df_new)\n",
        "\n",
        "# Extraer probabilidad de churn (probabilidad de 1)\n",
        "get_prob_1 = udf(lambda v: float(v[1]) if v is not None else None, DoubleType())\n",
        "preds_new = preds_new.withColumn('churn_probability', get_prob_1(col('probability')))\n",
        "\n",
        "# Convertir a Pandas solo con Names y churn_probability\n",
        "preds_pd = preds_new.select('Names', 'churn_probability').toPandas()\n",
        "preds_pd = preds_pd.sort_values('churn_probability', ascending=False)\n",
        "\n",
        "# Graficar\n",
        "plt.figure(figsize=(10,6))\n",
        "plt.bar(preds_pd['Names'], preds_pd['churn_probability'], color='skyblue')\n",
        "plt.title('Probabilidad de Churn por Cliente')\n",
        "plt.ylabel('Probabilidad de Churn')\n",
        "plt.ylim(0,1)\n",
        "\n",
        "# Etiquetas encima de las barras\n",
        "for i, prob in enumerate(preds_pd['churn_probability']):\n",
        "    plt.text(i, prob + 0.02, f'{prob:.2f}', ha='center', va='bottom')\n",
        "\n",
        "plt.xticks(rotation=45)\n",
        "plt.show()\n",
        "\n",
        "# Mostrar tabla\n",
        "print(preds_pd)\n"
      ],
      "metadata": {
        "colab": {
          "base_uri": "https://localhost:8080/",
          "height": 744
        },
        "id": "9KE8pmjssAYh",
        "outputId": "b7aba237-0e0d-4dc8-d301-4cd26dbff9dc"
      },
      "execution_count": 81,
      "outputs": [
        {
          "output_type": "display_data",
          "data": {
            "text/plain": [
              "<Figure size 1000x600 with 1 Axes>"
            ],
            "image/png": "[encoded data removed]"
          },
          "metadata": {}
        },
        {
          "output_type": "stream",
          "name": "stdout",
          "text": [
            "            Names  churn_probability\n",
            "1  Michele Wright           1.000000\n",
            "3  Megan Ferguson           1.000000\n",
            "2    Jeremy Chang           0.999996\n",
            "5   Jessica Drake           0.998396\n",
            "4    Taylor Young           0.912932\n",
            "0   Andrew Mccall           0.221259\n"
          ]
        }
      ]
    }
  ]
}